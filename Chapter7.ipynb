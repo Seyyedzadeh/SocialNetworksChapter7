{
 "cells": [
  {
   "cell_type": "code",
   "execution_count": 1,
   "metadata": {},
   "outputs": [],
   "source": [
    "import networkx as nx\n",
    "import random\n",
    "from collections import Counter"
   ]
  },
  {
   "cell_type": "code",
   "execution_count": 2,
   "metadata": {},
   "outputs": [
    {
     "name": "stdout",
     "output_type": "stream",
     "text": [
      "131828\n",
      "711783\n"
     ]
    }
   ],
   "source": [
    "G = nx.Graph()\n",
    "with open (\"soc-sign-epinions.txt\",\"r\") as file:\n",
    "    lines = file.readlines()[4:]\n",
    "    for line in lines:\n",
    "        edge =line.split()\n",
    "        src=edge[0]\n",
    "        target=edge[1]\n",
    "        flag=edge[2]\n",
    "        G.add_edge(src, target, sign=flag)\n",
    "    print(G.number_of_nodes())\n",
    "    print(G.number_of_edges())"
   ]
  },
  {
   "cell_type": "code",
   "execution_count": 7,
   "metadata": {},
   "outputs": [],
   "source": [
    "def generateTriads(g):\n",
    "    g=nx.Graph(g)\n",
    "    triadDic=dict()\n",
    "    for node1 in g.nodes():\n",
    "        for node2 in g.nodes():\n",
    "            for node3 in g.nodes():\n",
    "                d=[str(node1),str(node2),str(node3)]\n",
    "                if len(set(d)) == 3:\n",
    "                    s=sorted(d)\n",
    "                    key=','.join(s)\n",
    "                    triadType=''\n",
    "                    if key not in triadDic:\n",
    "                        cycledS=[s[2]]+s\n",
    "                        for i in range(3):\n",
    "                            src=int(cycledS[i])\n",
    "                            target=int(cycledS[i+1])\n",
    "                            if g.has_edge(src,target):\n",
    "                                edgeSign=g[src][target][\"sign\"]\n",
    "                                if int(edgeSign)==-1:\n",
    "                                    triadType+='-' \n",
    "                                else:\n",
    "                                    triadType+='+'\n",
    "                            else:\n",
    "                                triadType+='0'\n",
    "                        triadDic[key]=''.join(sorted(triadType))\n",
    "        \n",
    "    return triadDic"
   ]
  },
  {
   "cell_type": "code",
   "execution_count": 6,
   "metadata": {},
   "outputs": [],
   "source": [
    "def CalculatePositiveEdgesFraction(graph):\n",
    "   positiveEdges= [(u,v) for (u,v,s) in graph.edges(data='sign') if s==1]\n",
    "   return len(positiveEdges)/graph.number_of_edges()   \n",
    "    "
   ]
  },
  {
   "cell_type": "code",
   "execution_count": 5,
   "metadata": {},
   "outputs": [],
   "source": [
    "def CalcuateProbs(graph):\n",
    "    p=CalculatePositiveEdgesFraction(graph)\n",
    "    return p, 1-p"
   ]
  },
  {
   "cell_type": "code",
   "execution_count": 4,
   "metadata": {},
   "outputs": [],
   "source": [
    "def CalculateTriadsFraction(graph,triads):\n",
    "    tt=set(triads.values())\n",
    "    p,q= CalcuateProbs(graph)\n",
    "    trProbs=dict()\n",
    "    for t in tt:\n",
    "        x = '1'+t.replace('+','*p').replace('-','*q').replace('0','*0')\n",
    "        y=eval(x)\n",
    "        trProbs[t]=y\n",
    "    return trProbs"
   ]
  },
  {
   "cell_type": "code",
   "execution_count": 8,
   "metadata": {},
   "outputs": [
    {
     "name": "stdout",
     "output_type": "stream",
     "text": [
      "{'+--': 0.13717421124828533, '---': 0.1714677640603567, '+++': 0.0877914951989026, '++-': 0.10973936899862825}\n",
      "Counter({'+--': 54, '++-': 35, '---': 19, '+++': 12})\n",
      "\n",
      "\n",
      "{'+--': 0.10973936899862824, '---': 0.0877914951989026, '+++': 0.1714677640603567, '++-': 0.13717421124828533}\n",
      "Counter({'++-': 59, '+--': 37, '+++': 15, '---': 9})\n",
      "\n",
      "\n",
      "{'+--': 0.1030013717421125, '---': 0.07527023319615915, '+++': 0.19287791495198897, '++-': 0.14094924554183813}\n",
      "Counter({'+--': 42, '++-': 41, '+++': 28, '---': 9})\n",
      "\n",
      "\n",
      "{'+--': 0.12216186556927298, '---': 0.1168504801097394, '+++': 0.13351989026063096, '++-': 0.12771467764060354}\n",
      "Counter({'+--': 48, '++-': 47, '+++': 14, '---': 11})\n",
      "\n",
      "\n",
      "{'+--': 0.11614814814814815, '---': 0.10162962962962964, '+++': 0.1517037037037037, '++-': 0.13274074074074074}\n",
      "Counter({'++-': 50, '+--': 38, '+++': 18, '---': 14})\n",
      "\n",
      "\n"
     ]
    }
   ],
   "source": [
    "for i in range(5):\n",
    "    CN=nx.Graph( nx.complete_graph(10))\n",
    "    for u,v in CN.edges():\n",
    "        CN[u][v]['sign']=random.choice([1,-1])\n",
    "\n",
    "    trs=generateTriads(CN)\n",
    "    bt=CalculateTriadsFraction(CN,trs)\n",
    "    print(bt)\n",
    "    triadCounts=Counter(trs.values())\n",
    "    print(triadCounts)\n",
    "    print('\\n')"
   ]
  },
  {
   "cell_type": "code",
   "execution_count": null,
   "metadata": {},
   "outputs": [],
   "source": [
    "trs=generateTriads(G)\n",
    "bt=dict(CalculateTriadsFraction(G,trs))\n",
    "print(bt)\n",
    "triadCounts=Counter(trs.values())\n",
    "print(triadCounts)"
   ]
  }
 ],
 "metadata": {
  "kernelspec": {
   "display_name": "Python 3",
   "language": "python",
   "name": "python3"
  },
  "language_info": {
   "codemirror_mode": {
    "name": "ipython",
    "version": 3
   },
   "file_extension": ".py",
   "mimetype": "text/x-python",
   "name": "python",
   "nbconvert_exporter": "python",
   "pygments_lexer": "ipython3",
   "version": "3.11.4"
  },
  "orig_nbformat": 4
 },
 "nbformat": 4,
 "nbformat_minor": 2
}
